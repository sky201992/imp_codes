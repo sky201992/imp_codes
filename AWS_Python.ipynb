{
 "cells": [
  {
   "cell_type": "code",
   "execution_count": 1,
   "id": "6feabcd0",
   "metadata": {},
   "outputs": [],
   "source": [
    "import pandas as pd\n",
    "import boto3\n",
    "import s3fs"
   ]
  },
  {
   "cell_type": "code",
   "execution_count": 2,
   "id": "6b4734a4",
   "metadata": {},
   "outputs": [],
   "source": [
    "s3_bucket = boto3.resource(\"s3\")"
   ]
  },
  {
   "cell_type": "code",
   "execution_count": 3,
   "id": "a1a070d1",
   "metadata": {},
   "outputs": [],
   "source": [
    "s3_client = boto3.client('s3')"
   ]
  },
  {
   "cell_type": "markdown",
   "id": "7cdaa77b",
   "metadata": {},
   "source": [
    "# To create Bucket"
   ]
  },
  {
   "cell_type": "code",
   "execution_count": 6,
   "id": "00ff44d1",
   "metadata": {},
   "outputs": [
    {
     "data": {
      "text/plain": [
       "s3.Bucket(name='akashbucket03')"
      ]
     },
     "execution_count": 6,
     "metadata": {},
     "output_type": "execute_result"
    }
   ],
   "source": [
    "s3_bucket.create_bucket(Bucket='akashbucket03', CreateBucketConfiguration={'LocationConstraint': 'ap-south-1'})"
   ]
  },
  {
   "cell_type": "markdown",
   "id": "ac0e2f3c",
   "metadata": {},
   "source": [
    "# To upload files to any perticular bucket"
   ]
  },
  {
   "cell_type": "code",
   "execution_count": 7,
   "id": "a36c069f",
   "metadata": {},
   "outputs": [],
   "source": [
    "s3_bucket.meta.client.upload_file(r'/home/akash/Aroha/amazon s3 to mysql connection.docx',Bucket='akashbucket03',Key='python_mysql_con_sqlalchemy')"
   ]
  },
  {
   "cell_type": "code",
   "execution_count": null,
   "id": "6e84087b",
   "metadata": {},
   "outputs": [],
   "source": []
  },
  {
   "cell_type": "markdown",
   "id": "6b63de95",
   "metadata": {},
   "source": [
    "# To delete a file from bucket"
   ]
  },
  {
   "cell_type": "code",
   "execution_count": 8,
   "id": "0f7867eb",
   "metadata": {},
   "outputs": [
    {
     "data": {
      "text/plain": [
       "{'ResponseMetadata': {'RequestId': '1PF331QRCRS44F89',\n",
       "  'HostId': 'UtKwUD0T26S+iv3FHlko0zyIqnmnIXN6G60gGb6xkeo45FjcmsRK1lmLsxYQoeu21W9rYWSitY4=',\n",
       "  'HTTPStatusCode': 204,\n",
       "  'HTTPHeaders': {'x-amz-id-2': 'UtKwUD0T26S+iv3FHlko0zyIqnmnIXN6G60gGb6xkeo45FjcmsRK1lmLsxYQoeu21W9rYWSitY4=',\n",
       "   'x-amz-request-id': '1PF331QRCRS44F89',\n",
       "   'date': 'Tue, 19 Oct 2021 04:33:56 GMT',\n",
       "   'server': 'AmazonS3'},\n",
       "  'RetryAttempts': 0}}"
      ]
     },
     "execution_count": 8,
     "metadata": {},
     "output_type": "execute_result"
    }
   ],
   "source": [
    "s3_bucket.Object('akashbucket03','python_mysql_con_sqlalchemy').delete()"
   ]
  },
  {
   "cell_type": "code",
   "execution_count": 11,
   "id": "45284a79",
   "metadata": {},
   "outputs": [
    {
     "data": {
      "text/plain": [
       "{'ResponseMetadata': {'RequestId': '58H70R5AKFM6RB5B',\n",
       "  'HostId': 'gRM6UIxvJzJHgcAeK5D9Y6KmviguLcN4glEg7isS33dlh0Oq5uvXu1Gr7DRSiLAlpr/anxkB84k=',\n",
       "  'HTTPStatusCode': 204,\n",
       "  'HTTPHeaders': {'x-amz-id-2': 'gRM6UIxvJzJHgcAeK5D9Y6KmviguLcN4glEg7isS33dlh0Oq5uvXu1Gr7DRSiLAlpr/anxkB84k=',\n",
       "   'x-amz-request-id': '58H70R5AKFM6RB5B',\n",
       "   'date': 'Tue, 19 Oct 2021 04:32:40 GMT',\n",
       "   'server': 'AmazonS3'},\n",
       "  'RetryAttempts': 0}}"
      ]
     },
     "execution_count": 11,
     "metadata": {},
     "output_type": "execute_result"
    }
   ],
   "source": [
    "s3_client.delete_object(Bucket='akashbucket03',Key='python_mysql_con_sqlalchemy')"
   ]
  },
  {
   "cell_type": "markdown",
   "id": "2eb9f18d",
   "metadata": {},
   "source": [
    "# To delete Bucket"
   ]
  },
  {
   "cell_type": "code",
   "execution_count": 9,
   "id": "3deadb24",
   "metadata": {},
   "outputs": [
    {
     "data": {
      "text/plain": [
       "{'ResponseMetadata': {'RequestId': 'BZP7QGF2XS09GB2D',\n",
       "  'HostId': 'QpDbsb5z/yHan78j2q2R5HOclszNDTm33njr3GfLK5jkKODxDl6o+8xo8GjYRILBtlAz2sZNAy0=',\n",
       "  'HTTPStatusCode': 204,\n",
       "  'HTTPHeaders': {'x-amz-id-2': 'QpDbsb5z/yHan78j2q2R5HOclszNDTm33njr3GfLK5jkKODxDl6o+8xo8GjYRILBtlAz2sZNAy0=',\n",
       "   'x-amz-request-id': 'BZP7QGF2XS09GB2D',\n",
       "   'date': 'Tue, 19 Oct 2021 04:33:59 GMT',\n",
       "   'server': 'AmazonS3'},\n",
       "  'RetryAttempts': 0}}"
      ]
     },
     "execution_count": 9,
     "metadata": {},
     "output_type": "execute_result"
    }
   ],
   "source": [
    "s3_client.delete_bucket(Bucket= 'akashbucket03')"
   ]
  },
  {
   "cell_type": "markdown",
   "id": "8abe6e51",
   "metadata": {},
   "source": [
    "# Deleteing multiple file from bucket"
   ]
  },
  {
   "cell_type": "code",
   "execution_count": 13,
   "id": "24ceff30",
   "metadata": {},
   "outputs": [
    {
     "name": "stdout",
     "output_type": "stream",
     "text": [
      "akashbucket01 Chats on SQL Test.txt\n",
      "akashbucket01 Outlet.csv\n",
      "akashbucket01 admin_pass.csv\n",
      "akashbucket01 pandas task.xlsx\n",
      "akashbucket01 pandas.xlsx\n",
      "akashbucket01 vehicle_master.csv\n",
      "akashbucket02 chatdata.xlsx\n",
      "akashbucket02 updated_Outlet.csv\n",
      "akashbucket03 file2\n",
      "attendancebucket 30-09-2021/\n",
      "attendancebucket may18_timesheet.csv\n"
     ]
    }
   ],
   "source": [
    "list1 = []\n",
    "for buket in s3_bucket.buckets.all():\n",
    "    for obj in buket.objects.all():\n",
    "        print(obj.bucket_name,obj.key)\n",
    "        if obj.bucket_name == 'akashbucket03':\n",
    "            list1.append(obj.key)"
   ]
  },
  {
   "cell_type": "code",
   "execution_count": 14,
   "id": "3de8c0aa",
   "metadata": {},
   "outputs": [
    {
     "data": {
      "text/plain": [
       "['file2']"
      ]
     },
     "execution_count": 14,
     "metadata": {},
     "output_type": "execute_result"
    }
   ],
   "source": [
    "list1"
   ]
  },
  {
   "cell_type": "code",
   "execution_count": 15,
   "id": "f17506f9",
   "metadata": {},
   "outputs": [],
   "source": [
    "for i in list1:\n",
    "    s3_client.delete_object(Bucket='akashbucket03',Key=i)"
   ]
  },
  {
   "cell_type": "code",
   "execution_count": null,
   "id": "0b11748c",
   "metadata": {},
   "outputs": [],
   "source": []
  }
 ],
 "metadata": {
  "kernelspec": {
   "display_name": "Python 3 (ipykernel)",
   "language": "python",
   "name": "python3"
  },
  "language_info": {
   "codemirror_mode": {
    "name": "ipython",
    "version": 3
   },
   "file_extension": ".py",
   "mimetype": "text/x-python",
   "name": "python",
   "nbconvert_exporter": "python",
   "pygments_lexer": "ipython3",
   "version": "3.8.10"
  }
 },
 "nbformat": 4,
 "nbformat_minor": 5
}
